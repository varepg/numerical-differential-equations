{
 "cells": [
  {
   "cell_type": "code",
   "execution_count": null,
   "metadata": {},
   "outputs": [],
   "source": [
    "import numpy as np\n",
    "import matplotlib.pyplot as plt\n",
    "\n",
    "from twopbvp import two_p_BVP, get_f_vec\n",
    "from beam import Beam\n",
    "from sturmliouville import SL_solve"
   ]
  },
  {
   "cell_type": "code",
   "execution_count": null,
   "metadata": {},
   "outputs": [],
   "source": [
    "N = 100\n",
    "L = 1\n",
    "alpha = np.e**(-1/4)\n",
    "beta = np.e**(-1/4)\n",
    "f = lambda x: np.exp(-(x - 1/2)**2) * (4*(x - 1/2)**2 - 2)\n",
    "x, y = two_p_BVP(*get_f_vec(f, L, N), alpha, beta)\n",
    "g = lambda x: np.exp(-(x - 1/2)**2)\n",
    "plt.plot(x, y)\n",
    "plt.plot(x, g(x))\n",
    "plt.show()"
   ]
  },
  {
   "cell_type": "markdown",
   "metadata": {},
   "source": [
    "# Task 1.2"
   ]
  },
  {
   "cell_type": "code",
   "execution_count": null,
   "metadata": {},
   "outputs": [],
   "source": [
    "I = lambda x, L: 10**(-3) * (3 - 2 * np.cos(np.pi * x / L)**12) # m4\n",
    "q = lambda x: -50 * 10**3 # N/m\n",
    "L = 10 # m\n",
    "E = 1.9 * 10**11 # N/m2\n",
    "N = 999\n",
    "beam = Beam(q, L, E, I)\n",
    "x, u = beam.solve(N)"
   ]
  },
  {
   "cell_type": "code",
   "execution_count": null,
   "metadata": {},
   "outputs": [],
   "source": [
    "plt.plot(u, x)"
   ]
  },
  {
   "cell_type": "code",
   "execution_count": null,
   "metadata": {},
   "outputs": [],
   "source": [
    "np.round(u[500], 8)"
   ]
  },
  {
   "cell_type": "markdown",
   "metadata": {},
   "source": [
    "# Task 2.1"
   ]
  },
  {
   "cell_type": "code",
   "execution_count": null,
   "metadata": {},
   "outputs": [],
   "source": [
    "error1 = np.empty([8])\n",
    "error2 = np.empty([8])\n",
    "error3 = np.empty([8])\n",
    "true1 = -(np.pi)**2\n",
    "true2 = -(np.pi * 2)**2\n",
    "true3 = -(np.pi * 3)**2\n",
    "\n",
    "for i in range(3,11):\n",
    "    x, v, w = SL_solve(1, 2**i)\n",
    "    error1[i - 3] = np.abs(true1 - w[0])\n",
    "    error2[i - 3] = np.abs(true2 - w[1])\n",
    "    error3[i - 3] = np.abs(true3 - w[2])\n",
    "\n",
    "    \n",
    "N = np.array([2**i for i in range(3,11)])\n",
    "    \n",
    "plt.loglog(N, error1)\n",
    "plt.loglog(N, error2)\n",
    "plt.loglog(N, error3)\n",
    "plt.legend(['first', 'second', 'third'])"
   ]
  },
  {
   "cell_type": "code",
   "execution_count": null,
   "metadata": {},
   "outputs": [],
   "source": [
    "x, v, w = SL_solve(1, 499)\n",
    "w = -np.abs(w)\n",
    "np.round(w, 8)"
   ]
  },
  {
   "cell_type": "code",
   "execution_count": null,
   "metadata": {
    "scrolled": true
   },
   "outputs": [],
   "source": [
    "x, v, w = SL_solve(1, 100)\n",
    "\n",
    "print(w)\n",
    "plt.plot(x, v[:,0])\n",
    "plt.plot(x, v[:,1])\n",
    "plt.plot(x, v[:,2])\n",
    "plt.show()"
   ]
  },
  {
   "cell_type": "markdown",
   "metadata": {},
   "source": [
    "# Task 2.2"
   ]
  },
  {
   "cell_type": "code",
   "execution_count": null,
   "metadata": {},
   "outputs": [],
   "source": []
  }
 ],
 "metadata": {
  "kernelspec": {
   "display_name": "Python 3 (ipykernel)",
   "language": "python",
   "name": "python3"
  },
  "language_info": {
   "codemirror_mode": {
    "name": "ipython",
    "version": 3
   },
   "file_extension": ".py",
   "mimetype": "text/x-python",
   "name": "python",
   "nbconvert_exporter": "python",
   "pygments_lexer": "ipython3",
   "version": "3.10.6"
  },
  "vscode": {
   "interpreter": {
    "hash": "32bd891cc6004786c74942c876df5eded42d3208af56b931a7298d3c67efb23f"
   }
  }
 },
 "nbformat": 4,
 "nbformat_minor": 2
}
